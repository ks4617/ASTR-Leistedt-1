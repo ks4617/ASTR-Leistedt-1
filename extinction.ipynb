{
  "nbformat": 4,
  "nbformat_minor": 0,
  "metadata": {
    "colab": {
      "name": "extinction.ipynb",
      "provenance": [],
      "authorship_tag": "ABX9TyPTGIU8nclYin7QEG1tn6ck",
      "include_colab_link": true
    },
    "kernelspec": {
      "name": "python3",
      "display_name": "Python 3"
    }
  },
  "cells": [
    {
      "cell_type": "markdown",
      "metadata": {
        "id": "view-in-github",
        "colab_type": "text"
      },
      "source": [
        "<a href=\"https://colab.research.google.com/github/ks4617/ASTR-Leistedt-1/blob/main/extinction.ipynb\" target=\"_parent\"><img src=\"https://colab.research.google.com/assets/colab-badge.svg\" alt=\"Open In Colab\"/></a>"
      ]
    },
    {
      "cell_type": "code",
      "metadata": {
        "id": "4D-IuV6okhCl"
      },
      "source": [
        "import numpy as np\n",
        "import matplotlib.pyplot as plt\n",
        "from astropy.table import Table\n",
        "from astropy.coordinates import SkyCoord\n",
        "from dustmaps.sfd import SFDQuery"
      ],
      "execution_count": 9,
      "outputs": []
    },
    {
      "cell_type": "code",
      "metadata": {
        "id": "_EDCo4U1lL8O",
        "outputId": "e4470a94-4333-4d46-fbaa-5ad156a34a32",
        "colab": {
          "base_uri": "https://localhost:8080/"
        }
      },
      "source": [
        "pip install dustmaps"
      ],
      "execution_count": 2,
      "outputs": [
        {
          "output_type": "stream",
          "text": [
            "Collecting dustmaps\n",
            "\u001b[?25l  Downloading https://files.pythonhosted.org/packages/c2/fe/99a87900ae3a5e65b7935ff57c733ae8252a6f2385a2342893ea80490c65/dustmaps-1.0.5-py3-none-any.whl (452kB)\n",
            "\u001b[K     |████████████████████████████████| 460kB 3.3MB/s \n",
            "\u001b[?25hRequirement already satisfied: h5py in /usr/local/lib/python3.6/dist-packages (from dustmaps) (2.10.0)\n",
            "Requirement already satisfied: scipy in /usr/local/lib/python3.6/dist-packages (from dustmaps) (1.4.1)\n",
            "Requirement already satisfied: six in /usr/local/lib/python3.6/dist-packages (from dustmaps) (1.15.0)\n",
            "Requirement already satisfied: astropy in /usr/local/lib/python3.6/dist-packages (from dustmaps) (4.1)\n",
            "Requirement already satisfied: numpy in /usr/local/lib/python3.6/dist-packages (from dustmaps) (1.18.5)\n",
            "Requirement already satisfied: requests in /usr/local/lib/python3.6/dist-packages (from dustmaps) (2.23.0)\n",
            "Collecting healpy\n",
            "\u001b[?25l  Downloading https://files.pythonhosted.org/packages/dd/30/56144086dc132b5bf5b271c62d045460db6c6a5a2bb68d3f7bde678a6727/healpy-1.14.0-cp36-cp36m-manylinux1_x86_64.whl (15.8MB)\n",
            "\u001b[K     |████████████████████████████████| 15.8MB 302kB/s \n",
            "\u001b[?25hRequirement already satisfied: progressbar2 in /usr/local/lib/python3.6/dist-packages (from dustmaps) (3.38.0)\n",
            "Requirement already satisfied: certifi>=2017.4.17 in /usr/local/lib/python3.6/dist-packages (from requests->dustmaps) (2020.6.20)\n",
            "Requirement already satisfied: idna<3,>=2.5 in /usr/local/lib/python3.6/dist-packages (from requests->dustmaps) (2.10)\n",
            "Requirement already satisfied: chardet<4,>=3.0.2 in /usr/local/lib/python3.6/dist-packages (from requests->dustmaps) (3.0.4)\n",
            "Requirement already satisfied: urllib3!=1.25.0,!=1.25.1,<1.26,>=1.21.1 in /usr/local/lib/python3.6/dist-packages (from requests->dustmaps) (1.24.3)\n",
            "Requirement already satisfied: matplotlib in /usr/local/lib/python3.6/dist-packages (from healpy->dustmaps) (3.2.2)\n",
            "Requirement already satisfied: python-utils>=2.3.0 in /usr/local/lib/python3.6/dist-packages (from progressbar2->dustmaps) (2.4.0)\n",
            "Requirement already satisfied: cycler>=0.10 in /usr/local/lib/python3.6/dist-packages (from matplotlib->healpy->dustmaps) (0.10.0)\n",
            "Requirement already satisfied: kiwisolver>=1.0.1 in /usr/local/lib/python3.6/dist-packages (from matplotlib->healpy->dustmaps) (1.3.1)\n",
            "Requirement already satisfied: pyparsing!=2.0.4,!=2.1.2,!=2.1.6,>=2.0.1 in /usr/local/lib/python3.6/dist-packages (from matplotlib->healpy->dustmaps) (2.4.7)\n",
            "Requirement already satisfied: python-dateutil>=2.1 in /usr/local/lib/python3.6/dist-packages (from matplotlib->healpy->dustmaps) (2.8.1)\n",
            "Installing collected packages: healpy, dustmaps\n",
            "Successfully installed dustmaps-1.0.5 healpy-1.14.0\n"
          ],
          "name": "stdout"
        }
      ]
    },
    {
      "cell_type": "code",
      "metadata": {
        "id": "6ClWz2QqmISg",
        "outputId": "1366d84a-8903-49ab-86f3-6e1c6eea013a",
        "colab": {
          "base_uri": "https://localhost:8080/"
        }
      },
      "source": [
        "from google.colab import drive\n",
        "drive.mount('/content/gdrive')"
      ],
      "execution_count": 4,
      "outputs": [
        {
          "output_type": "stream",
          "text": [
            "Mounted at /content/gdrive\n"
          ],
          "name": "stdout"
        }
      ]
    },
    {
      "cell_type": "code",
      "metadata": {
        "id": "HJfZ9lcjl-Yu"
      },
      "source": [
        "full_ebv = Table.read('gdrive/My Drive/Colab Notebooks/full_ebv.fits', format='fits')"
      ],
      "execution_count": 23,
      "outputs": []
    },
    {
      "cell_type": "code",
      "metadata": {
        "id": "IkCcvMGMmpbz"
      },
      "source": [
        "coords = SkyCoord(full_ebv['RA'], full_ebv['DEC'], frame='icrs', unit='deg') # create coordinates array\n",
        "sfd = SFDQuery() # instantiate dust map\n",
        "ebv = sfd(coords) # get values at coordinates"
      ],
      "execution_count": 24,
      "outputs": []
    },
    {
      "cell_type": "code",
      "metadata": {
        "id": "KVS0UKmknhr6",
        "outputId": "5451a7ad-490a-4fe1-9efe-e4e88a4c74c9",
        "colab": {
          "base_uri": "https://localhost:8080/"
        }
      },
      "source": [
        "import dustmaps.sfd\n",
        "dustmaps.sfd.fetch()"
      ],
      "execution_count": 12,
      "outputs": [
        {
          "output_type": "stream",
          "text": [
            "Downloading SFD data file to /usr/local/lib/python3.6/dist-packages/dustmaps/data/sfd/SFD_dust_4096_ngp.fits\n",
            "Downloading data to '/usr/local/lib/python3.6/dist-packages/dustmaps/data/sfd/SFD_dust_4096_ngp.fits' ...\n",
            "Downloading https://dataverse.harvard.edu/api/access/datafile/2902687 ...\n"
          ],
          "name": "stdout"
        },
        {
          "output_type": "stream",
          "text": [
            " 62.4 MiB of 64.0 MiB |  40.8 MiB/s |################## |  97% | ETA:   0:00:00"
          ],
          "name": "stderr"
        },
        {
          "output_type": "stream",
          "text": [
            "Downloading SFD data file to /usr/local/lib/python3.6/dist-packages/dustmaps/data/sfd/SFD_dust_4096_sgp.fits\n",
            "Downloading data to '/usr/local/lib/python3.6/dist-packages/dustmaps/data/sfd/SFD_dust_4096_sgp.fits' ...\n",
            "Downloading https://dataverse.harvard.edu/api/access/datafile/2902695 ...\n"
          ],
          "name": "stdout"
        },
        {
          "output_type": "stream",
          "text": [
            " 61.6 MiB of 64.0 MiB |  39.9 MiB/s |################## |  96% | ETA:   0:00:00"
          ],
          "name": "stderr"
        }
      ]
    },
    {
      "cell_type": "code",
      "metadata": {
        "id": "kKy0WRuhze5P",
        "outputId": "a846d6a2-555e-4628-d7da-a4b249d1a6a0",
        "colab": {
          "base_uri": "https://localhost:8080/"
        }
      },
      "source": [
        "print(ebv)\n",
        "print(len(ebv))"
      ],
      "execution_count": 25,
      "outputs": [
        {
          "output_type": "stream",
          "text": [
            "[0.03181879 0.03181879 0.05873083 ... 0.03181879 0.02355531 0.02235091]\n",
            "4151126\n"
          ],
          "name": "stdout"
        }
      ]
    },
    {
      "cell_type": "code",
      "metadata": {
        "id": "sLtRhSHTz7Iw"
      },
      "source": [
        "from astropy.table import QTable\n",
        "ebv_vals= QTable([ebv, full_ebv['EBV']], names=('from dustmaps', 'from datafile'))"
      ],
      "execution_count": 29,
      "outputs": []
    },
    {
      "cell_type": "code",
      "metadata": {
        "id": "E2grH3bx0SoG",
        "outputId": "b75a9189-89f5-4b54-ae4b-1ef54017b573",
        "colab": {
          "base_uri": "https://localhost:8080/",
          "height": 519
        }
      },
      "source": [
        "ebv_vals"
      ],
      "execution_count": 30,
      "outputs": [
        {
          "output_type": "execute_result",
          "data": {
            "text/html": [
              "<i>QTable length=4151126</i>\n",
              "<table id=\"table139762860673792\" class=\"table-striped table-bordered table-condensed\">\n",
              "<thead><tr><th>from dustmaps</th><th>from datafile</th></tr></thead>\n",
              "<thead><tr><th>float32</th><th>float32</th></tr></thead>\n",
              "<tr><td>0.03181879</td><td>0.0</td></tr>\n",
              "<tr><td>0.03181879</td><td>0.0</td></tr>\n",
              "<tr><td>0.058730833</td><td>0.058730435</td></tr>\n",
              "<tr><td>0.03181879</td><td>0.0</td></tr>\n",
              "<tr><td>0.060829304</td><td>0.060830045</td></tr>\n",
              "<tr><td>0.114271544</td><td>0.11427379</td></tr>\n",
              "<tr><td>0.044015102</td><td>0.0440153</td></tr>\n",
              "<tr><td>0.03181879</td><td>0.0</td></tr>\n",
              "<tr><td>0.03181879</td><td>0.0</td></tr>\n",
              "<tr><td>0.03181879</td><td>0.0</td></tr>\n",
              "<tr><td>...</td><td>...</td></tr>\n",
              "<tr><td>0.020783458</td><td>0.020783385</td></tr>\n",
              "<tr><td>0.03181879</td><td>0.0</td></tr>\n",
              "<tr><td>0.02207674</td><td>0.022076786</td></tr>\n",
              "<tr><td>0.03181879</td><td>0.0</td></tr>\n",
              "<tr><td>0.03181879</td><td>0.0</td></tr>\n",
              "<tr><td>0.023586983</td><td>0.023586826</td></tr>\n",
              "<tr><td>0.03181879</td><td>0.0</td></tr>\n",
              "<tr><td>0.03181879</td><td>0.0</td></tr>\n",
              "<tr><td>0.023555307</td><td>0.023555309</td></tr>\n",
              "<tr><td>0.022350905</td><td>0.022350907</td></tr>\n",
              "</table>"
            ],
            "text/plain": [
              "<QTable length=4151126>\n",
              "from dustmaps from datafile\n",
              "   float32       float32   \n",
              "------------- -------------\n",
              "   0.03181879           0.0\n",
              "   0.03181879           0.0\n",
              "  0.058730833   0.058730435\n",
              "   0.03181879           0.0\n",
              "  0.060829304   0.060830045\n",
              "  0.114271544    0.11427379\n",
              "  0.044015102     0.0440153\n",
              "   0.03181879           0.0\n",
              "   0.03181879           0.0\n",
              "   0.03181879           0.0\n",
              "          ...           ...\n",
              "  0.020783458   0.020783385\n",
              "   0.03181879           0.0\n",
              "   0.02207674   0.022076786\n",
              "   0.03181879           0.0\n",
              "   0.03181879           0.0\n",
              "  0.023586983   0.023586826\n",
              "   0.03181879           0.0\n",
              "   0.03181879           0.0\n",
              "  0.023555307   0.023555309\n",
              "  0.022350905   0.022350907"
            ]
          },
          "metadata": {
            "tags": []
          },
          "execution_count": 30
        }
      ]
    },
    {
      "cell_type": "code",
      "metadata": {
        "id": "ki_qXv-s0TVL"
      },
      "source": [
        ""
      ],
      "execution_count": null,
      "outputs": []
    }
  ]
}