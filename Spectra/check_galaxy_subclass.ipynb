{
  "nbformat": 4,
  "nbformat_minor": 0,
  "metadata": {
    "colab": {
      "name": "check_galaxy_subclass.ipynb",
      "provenance": [],
      "authorship_tag": "ABX9TyMc/iD34KRvgn3eJyVi58lx",
      "include_colab_link": true
    },
    "kernelspec": {
      "name": "python3",
      "display_name": "Python 3"
    }
  },
  "cells": [
    {
      "cell_type": "markdown",
      "metadata": {
        "id": "view-in-github",
        "colab_type": "text"
      },
      "source": [
        "<a href=\"https://colab.research.google.com/github/ks4617/ASTR-Leistedt-1/blob/main/Spectra/check_galaxy_subclass.ipynb\" target=\"_parent\"><img src=\"https://colab.research.google.com/assets/colab-badge.svg\" alt=\"Open In Colab\"/></a>"
      ]
    },
    {
      "cell_type": "code",
      "metadata": {
        "colab": {
          "base_uri": "https://localhost:8080/"
        },
        "id": "P0CBOiQrscxX",
        "outputId": "b3d4e4c9-335c-42f0-c302-c936c9327090"
      },
      "source": [
        "!pip install astroML"
      ],
      "execution_count": 3,
      "outputs": [
        {
          "output_type": "stream",
          "text": [
            "Collecting astroML\n",
            "\u001b[?25l  Downloading https://files.pythonhosted.org/packages/e6/16/bb2d2784c09bfa9ed1ac5c3caf32cc203a1f8614fd5361f99ee46b4e04dc/astroML-0.4.1.tar.gz (105kB)\n",
            "\r\u001b[K     |███▏                            | 10kB 12.4MB/s eta 0:00:01\r\u001b[K     |██████▎                         | 20kB 17.1MB/s eta 0:00:01\r\u001b[K     |█████████▍                      | 30kB 14.3MB/s eta 0:00:01\r\u001b[K     |████████████▌                   | 40kB 10.6MB/s eta 0:00:01\r\u001b[K     |███████████████▋                | 51kB 7.9MB/s eta 0:00:01\r\u001b[K     |██████████████████▊             | 61kB 7.2MB/s eta 0:00:01\r\u001b[K     |█████████████████████▉          | 71kB 7.2MB/s eta 0:00:01\r\u001b[K     |█████████████████████████       | 81kB 8.0MB/s eta 0:00:01\r\u001b[K     |████████████████████████████    | 92kB 8.0MB/s eta 0:00:01\r\u001b[K     |███████████████████████████████▏| 102kB 8.2MB/s eta 0:00:01\r\u001b[K     |████████████████████████████████| 112kB 8.2MB/s \n",
            "\u001b[?25hRequirement already satisfied: scikit-learn>=0.18 in /usr/local/lib/python3.6/dist-packages (from astroML) (0.22.2.post1)\n",
            "Requirement already satisfied: numpy>=1.4 in /usr/local/lib/python3.6/dist-packages (from astroML) (1.19.5)\n",
            "Requirement already satisfied: scipy>=0.11 in /usr/local/lib/python3.6/dist-packages (from astroML) (1.4.1)\n",
            "Requirement already satisfied: matplotlib>=0.99 in /usr/local/lib/python3.6/dist-packages (from astroML) (3.2.2)\n",
            "Requirement already satisfied: astropy>=1.2 in /usr/local/lib/python3.6/dist-packages (from astroML) (4.1)\n",
            "Requirement already satisfied: joblib>=0.11 in /usr/local/lib/python3.6/dist-packages (from scikit-learn>=0.18->astroML) (1.0.0)\n",
            "Requirement already satisfied: kiwisolver>=1.0.1 in /usr/local/lib/python3.6/dist-packages (from matplotlib>=0.99->astroML) (1.3.1)\n",
            "Requirement already satisfied: python-dateutil>=2.1 in /usr/local/lib/python3.6/dist-packages (from matplotlib>=0.99->astroML) (2.8.1)\n",
            "Requirement already satisfied: cycler>=0.10 in /usr/local/lib/python3.6/dist-packages (from matplotlib>=0.99->astroML) (0.10.0)\n",
            "Requirement already satisfied: pyparsing!=2.0.4,!=2.1.2,!=2.1.6,>=2.0.1 in /usr/local/lib/python3.6/dist-packages (from matplotlib>=0.99->astroML) (2.4.7)\n",
            "Requirement already satisfied: six>=1.5 in /usr/local/lib/python3.6/dist-packages (from python-dateutil>=2.1->matplotlib>=0.99->astroML) (1.15.0)\n",
            "Building wheels for collected packages: astroML\n",
            "  Building wheel for astroML (setup.py) ... \u001b[?25l\u001b[?25hdone\n",
            "  Created wheel for astroML: filename=astroML-0.4.1-cp36-none-any.whl size=128665 sha256=8e7bd408b217c6806e8685a03bd4d33cdf5aeb1ec3840de079cdb24ff97cd3ec\n",
            "  Stored in directory: /root/.cache/pip/wheels/7c/f2/f3/eb817cfb31b4445358dd7dda2434e02003f72801edabc38c97\n",
            "Successfully built astroML\n",
            "Installing collected packages: astroML\n",
            "Successfully installed astroML-0.4.1\n"
          ],
          "name": "stdout"
        }
      ]
    },
    {
      "cell_type": "code",
      "metadata": {
        "id": "gUnSJLT_Au9j"
      },
      "source": [
        "from astroML.datasets import fetch_sdss_spectrum\r\n",
        "from astroML.datasets.tools import query_plate_mjd_fiber, TARGET_GALAXY"
      ],
      "execution_count": 4,
      "outputs": []
    },
    {
      "cell_type": "code",
      "metadata": {
        "colab": {
          "base_uri": "https://localhost:8080/"
        },
        "id": "Fr9HPB_GHew9",
        "outputId": "a308bf38-7d2e-4853-d702-e2a89077c591"
      },
      "source": [
        "plate, mjd, fiber = query_plate_mjd_fiber(1, TARGET_GALAXY,\r\n",
        "                                              0, 0.7)\r\n",
        "spec = fetch_sdss_spectrum(plate[0], mjd[0], fiber[0])"
      ],
      "execution_count": 5,
      "outputs": [
        {
          "output_type": "stream",
          "text": [
            "Downloading http://das.sdss.org/spectro/1d_26/1732/1d/spSpec-53501-1732-156.fit\n",
            "\n",
            "caching to /root/astroML_data/SDSSspec/1732/spSpec-53501-1732-156.fit\n"
          ],
          "name": "stdout"
        }
      ]
    },
    {
      "cell_type": "code",
      "metadata": {
        "colab": {
          "base_uri": "https://localhost:8080/"
        },
        "id": "3S0Dzfu_HtHM",
        "outputId": "3d99ba78-ff4d-4085-eb5a-89b89708a783"
      },
      "source": [
        "import inspect\r\n",
        "print(inspect.getsource(spec.lineratio_index))"
      ],
      "execution_count": 6,
      "outputs": [
        {
          "output_type": "stream",
          "text": [
            "    def lineratio_index(self, indicator='NII'):\n",
            "        \"\"\"Return the line ratio index for the given galaxy.\n",
            "\n",
            "        This is the index used in Vanderplas et al 2009, and makes use\n",
            "        of line-ratio fits from Kewley et al 2001\n",
            "\n",
            "        Parameters\n",
            "        ----------\n",
            "        indicator: string ['NII'|'OI'|'SII']\n",
            "            The emission line to use as an indicator\n",
            "\n",
            "        Returns\n",
            "        -------\n",
            "        cln: integer\n",
            "            The classification of the spectrum based on SDSS pipeline and\n",
            "            the line ratios.\n",
            "\n",
            "            0 : unknown (SPEC_CLN = 0)\n",
            "            1 : star (SPEC_CLN = 1)\n",
            "            2 : absorption galaxy (H-alpha seen in absorption)\n",
            "            3 : normal galaxy (no significant H-alpha emission or absorption)\n",
            "            4 : emission line galaxies (below line-ratio curve)\n",
            "            5 : narrow-line QSO (above line-ratio curve)\n",
            "            6 : broad-line QSO (SPEC_CLN = 3)\n",
            "            7 : Sky (SPEC_CLN = 4)\n",
            "            8 : Hi-z QSO (SPEC_CLN = 5)\n",
            "            9 : Late-type star (SPEC_CLN = 6)\n",
            "            10 : Emission galaxy (SPEC_CLN = 7)\n",
            "\n",
            "        ratios: tuple\n",
            "            The line ratios used to compute this\n",
            "        \"\"\"\n",
            "        assert indicator in ['NII', 'OI', 'SII']\n",
            "\n",
            "        if self.spec_cln < 2:\n",
            "            return self.spec_cln, (0, 0)\n",
            "        elif self.spec_cln > 2:\n",
            "            return self.spec_cln + 3, (0, 0)\n",
            "\n",
            "        strength_Ha, nsig_Ha = self._get_line_strength('Ha')\n",
            "        strength_Hb, nsig_Hb = self._get_line_strength('Hb')\n",
            "        if nsig_Ha < 3 or nsig_Hb < 3:\n",
            "            return 3, (0, 0)\n",
            "\n",
            "        if strength_Ha < 0 or strength_Hb < 0:\n",
            "            return 2, (0, 0)\n",
            "\n",
            "        # all that's left is choosing between 4 and 5\n",
            "        # we do this based on line-ratios\n",
            "        strength_I, nsig_I = self._get_line_strength(indicator)\n",
            "        strength_OIII, nsig_OIII = self._get_line_strength('OIII')\n",
            "\n",
            "        log_OIII_Hb = np.log10(strength_OIII / strength_Hb)\n",
            "        I_Ha = np.log10(strength_I / strength_Ha)\n",
            "\n",
            "        if indicator == 'NII':\n",
            "            if I_Ha >= 0.47 or log_OIII_Hb >= log_OIII_Hb_NII(I_Ha):\n",
            "                return 5, (I_Ha, log_OIII_Hb)\n",
            "            else:\n",
            "                return 4, (I_Ha, log_OIII_Hb)\n",
            "\n",
            "        elif indicator == 'OI':\n",
            "            if I_Ha >= -0.59 or log_OIII_Hb >= log_OIII_Hb_OI(I_Ha):\n",
            "                return 5, (I_Ha, log_OIII_Hb)\n",
            "            else:\n",
            "                return 4, (I_Ha, log_OIII_Hb)\n",
            "\n",
            "        else:\n",
            "            if I_Ha >= 0.32 or log_OIII_Hb >= log_OIII_Hb_SII(I_Ha):\n",
            "                return 5, (I_Ha, log_OIII_Hb)\n",
            "            else:\n",
            "                return 4, (I_Ha, log_OIII_Hb)\n",
            "\n"
          ],
          "name": "stdout"
        }
      ]
    }
  ]
}