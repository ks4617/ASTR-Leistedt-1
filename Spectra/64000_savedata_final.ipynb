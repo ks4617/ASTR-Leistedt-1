{
  "nbformat": 4,
  "nbformat_minor": 0,
  "metadata": {
    "colab": {
      "name": "64000_savedata_final.ipynb",
      "provenance": [],
      "collapsed_sections": [
        "JIjwmVm4gExC",
        "r3RotkD5gR8J",
        "n5RDYfysirkl",
        "u1GlZu2FjUAD",
        "fVXQ64WajYeA",
        "beo8zLpcjahu",
        "d6JQBBGPu0-z",
        "BgQJcqtCv83U",
        "-8Zw1c_jwNDe",
        "wacsq7tV3uEz",
        "S3oFQBqPx3bJ",
        "HAcdniY3ynhC"
      ],
      "toc_visible": true,
      "authorship_tag": "ABX9TyNzeFILmOyhKVXbrpscrrLy"
    },
    "kernelspec": {
      "name": "python3",
      "display_name": "Python 3"
    },
    "language_info": {
      "name": "python"
    }
  },
  "cells": [
    {
      "cell_type": "code",
      "metadata": {
        "id": "FJabCasryiB5"
      },
      "source": [
        "# Import modules\n",
        "\n",
        "import numpy as np\n",
        "\n",
        "import matplotlib.pyplot as plt\n",
        "from sklearn import preprocessing\n",
        "from sklearn.decomposition import PCA\n",
        "from numpy.linalg import inv\n",
        "from numpy.linalg import slogdet\n",
        "from scipy.optimize import minimize\n",
        "\n",
        "import pandas as pd\n",
        "from math import log10\n",
        "from matplotlib.colors import ListedColormap"
      ],
      "execution_count": null,
      "outputs": []
    },
    {
      "cell_type": "code",
      "metadata": {
        "id": "Dy8PgVocCNEV"
      },
      "source": [
        "from astropy.io import fits\n",
        "from astropy.table import Table, hstack, vstack"
      ],
      "execution_count": null,
      "outputs": []
    },
    {
      "cell_type": "code",
      "metadata": {
        "colab": {
          "base_uri": "https://localhost:8080/"
        },
        "id": "Q6KtAQgq7MYm",
        "outputId": "bd763536-c448-4f01-990f-aef3980ac0f9"
      },
      "source": [
        "from google.colab import drive\n",
        "drive.mount('/content/drive')"
      ],
      "execution_count": null,
      "outputs": [
        {
          "output_type": "stream",
          "text": [
            "Mounted at /content/drive\n"
          ],
          "name": "stdout"
        }
      ]
    },
    {
      "cell_type": "code",
      "metadata": {
        "id": "XRNdpLEQzO4N"
      },
      "source": [
        "# Load data\n",
        "data = np.load('/content/drive/MyDrive/Colab Notebooks/spec64000newz.npz')"
      ],
      "execution_count": null,
      "outputs": []
    },
    {
      "cell_type": "code",
      "metadata": {
        "id": "zvSKIZxVPWFn"
      },
      "source": [
        "with fits.open('/content/drive/MyDrive/Colab Notebooks/full_zok_w1w2.fits') as hdu_list:\n",
        "  photo = Table.read(hdu_list[1])"
      ],
      "execution_count": null,
      "outputs": []
    },
    {
      "cell_type": "code",
      "metadata": {
        "id": "KKlsw-g7rVHf"
      },
      "source": [
        "plt.rcParams.update({'font.size': 20})\n",
        "plt.rc('xtick',labelsize=20)\n",
        "plt.rc('ytick',labelsize=20)"
      ],
      "execution_count": null,
      "outputs": []
    },
    {
      "cell_type": "markdown",
      "metadata": {
        "id": "JIjwmVm4gExC"
      },
      "source": [
        "# Aligning photo with spectro"
      ]
    },
    {
      "cell_type": "code",
      "metadata": {
        "colab": {
          "base_uri": "https://localhost:8080/"
        },
        "id": "StPc2Q87FzaT",
        "outputId": "c4cb26af-6806-460d-a256-8faac747a6d5"
      },
      "source": [
        "list(photo.keys())  "
      ],
      "execution_count": null,
      "outputs": [
        {
          "output_type": "execute_result",
          "data": {
            "text/plain": [
              "['MJD',\n",
              " 'PLATE',\n",
              " 'FIBERID',\n",
              " 'RA',\n",
              " 'DEC',\n",
              " 'Z',\n",
              " 'ZWARNING',\n",
              " 'CLASS',\n",
              " 'SUBCLASS',\n",
              " 'FLUX_G',\n",
              " 'FLUX_IVAR_G',\n",
              " 'MW_TRANSMISSION_G',\n",
              " 'FLUX_R',\n",
              " 'FLUX_IVAR_R',\n",
              " 'MW_TRANSMISSION_R',\n",
              " 'FLUX_Z',\n",
              " 'FLUX_IVAR_Z',\n",
              " 'MW_TRANSMISSION_Z',\n",
              " 'FLUX_W1',\n",
              " 'FLUX_IVAR_W1',\n",
              " 'MW_TRANSMISSION_W1',\n",
              " 'FLUX_W2',\n",
              " 'FLUX_IVAR_W2',\n",
              " 'MW_TRANSMISSION_W2']"
            ]
          },
          "metadata": {
            "tags": []
          },
          "execution_count": 6
        }
      ]
    },
    {
      "cell_type": "code",
      "metadata": {
        "id": "Ym4-ginWdfrn"
      },
      "source": [
        "data_plate = data['plate']\n",
        "data_mjd = data['mjd']\n",
        "data_fiber = data['fiber']\n",
        "\n",
        "photo_plate = photo['PLATE']\n",
        "photo_mjd = photo['MJD']\n",
        "photo_fiber = photo['FIBERID']\n",
        "photo_class = photo['CLASS']\n",
        "photo_subclass = photo['SUBCLASS']\n",
        "photo_fluxg = photo['FLUX_G']\n",
        "photo_fluxr = photo['FLUX_R']\n",
        "photo_fluxz = photo['FLUX_Z']\n",
        "photo_fluxw1 = photo['FLUX_W1']\n",
        "photo_fluxw2 = photo['FLUX_W2']\n",
        "photo_z = photo['Z']"
      ],
      "execution_count": null,
      "outputs": []
    },
    {
      "cell_type": "code",
      "metadata": {
        "colab": {
          "base_uri": "https://localhost:8080/"
        },
        "id": "GblXO662xc8_",
        "outputId": "d673bd6a-0fe2-480c-d321-4b359c55f23e"
      },
      "source": [
        "# Select galaxies from both data sets\n",
        "\n",
        "class_ind = photo_class == 'GALAXY'\n",
        "\n",
        "photo_plate = photo_plate[class_ind]\n",
        "photo_mjd = photo_mjd[class_ind]\n",
        "photo_fiber = photo_fiber[class_ind]\n",
        "photo_class = photo_class[class_ind]\n",
        "photo_subclass = photo_subclass[class_ind]\n",
        "photo_fluxg = photo_fluxg[class_ind]\n",
        "photo_fluxr = photo_fluxr[class_ind]\n",
        "photo_fluxz = photo_fluxz[class_ind]\n",
        "photo_fluxw1 = photo_fluxw1[class_ind]\n",
        "photo_fluxw2 = photo_fluxw2[class_ind]\n",
        "photo_z = photo_z[class_ind]\n",
        "\n",
        "print(np.shape(photo_plate))\n",
        "\n",
        "galaxy_ind = data['spec_cln'] == 2\n",
        "X = data['spectra'][galaxy_ind]\n",
        "subclass = data['lineindex_cln'][galaxy_ind]\n",
        "z = data['z'][galaxy_ind]\n",
        "z_err = data['zerr'][galaxy_ind]\n",
        "spec_err = data['spec_err'][galaxy_ind]\n",
        "data_plate = data_plate[galaxy_ind]\n",
        "data_mjd = data_mjd[galaxy_ind]\n",
        "data_fiber = data_fiber[galaxy_ind]\n",
        "mask = data['mask'][galaxy_ind]\n",
        "\n",
        "print(np.shape(data_plate))"
      ],
      "execution_count": null,
      "outputs": [
        {
          "output_type": "stream",
          "text": [
            "(2541424,)\n",
            "(62978,)\n"
          ],
          "name": "stdout"
        }
      ]
    },
    {
      "cell_type": "code",
      "metadata": {
        "id": "FPmpU_gXMdPa"
      },
      "source": [
        "# Match photo data to spectro\n",
        "\n",
        "data_ind = np.array([0])\n",
        "for i in range(len(data_plate)):\n",
        "  ind = np.flatnonzero((photo_plate == data_plate[i]) & (photo_mjd == data_mjd[i]) & (photo_fiber == data_fiber[i]))\n",
        "  data_ind = np.concatenate([data_ind,ind])\n",
        "\n",
        "data_ind = np.delete(data_ind,0)\n",
        "\n",
        "photo_plate = photo_plate[data_ind]\n",
        "photo_mjd = photo_mjd[data_ind]\n",
        "photo_fiber = photo_fiber[data_ind]\n",
        "photo_class = photo_class[data_ind]\n",
        "photo_subclass = photo_subclass[data_ind]\n",
        "photo_fluxg = photo_fluxg[data_ind]\n",
        "photo_fluxr = photo_fluxr[data_ind]\n",
        "photo_fluxz = photo_fluxz[data_ind]\n",
        "photo_fluxw1 = photo_fluxw1[data_ind]\n",
        "photo_fluxw2 = photo_fluxw2[data_ind]\n",
        "photo_z = photo_z[data_ind]"
      ],
      "execution_count": null,
      "outputs": []
    },
    {
      "cell_type": "code",
      "metadata": {
        "colab": {
          "base_uri": "https://localhost:8080/"
        },
        "id": "gzK3Jqv2FOVg",
        "outputId": "04be3a10-38f2-46df-cc05-3e70d566af3d"
      },
      "source": [
        "# Match spectro data to photo\n",
        "\n",
        "photo_ind = np.array([0])\n",
        "for i in range(len(photo_plate)):\n",
        "  ind = np.flatnonzero((data_plate == photo_plate[i]) & (data_mjd == photo_mjd[i]) & (data_fiber == photo_fiber[i]))\n",
        "  photo_ind = np.concatenate([photo_ind,ind])\n",
        "\n",
        "photo_ind = np.delete(photo_ind,0)\n",
        "print(np.shape(photo_ind))\n",
        "\n",
        "X = X[photo_ind]\n",
        "subclass = subclass[photo_ind]\n",
        "z = z[photo_ind]\n",
        "z_err = z_err[photo_ind]\n",
        "spec_err = spec_err[photo_ind]\n",
        "data_plate = data_plate[photo_ind]\n",
        "data_mjd = data_mjd[photo_ind]\n",
        "data_fiber = data_fiber[photo_ind]\n",
        "mask = mask[photo_ind]\n",
        "\n",
        "plate_mjd_fiber = np.column_stack((data_plate, data_mjd, data_fiber))"
      ],
      "execution_count": null,
      "outputs": [
        {
          "output_type": "stream",
          "text": [
            "(62640,)\n"
          ],
          "name": "stdout"
        }
      ]
    },
    {
      "cell_type": "code",
      "metadata": {
        "colab": {
          "base_uri": "https://localhost:8080/"
        },
        "id": "yr1j4XL4jYaJ",
        "outputId": "fbd6546b-d1ed-4f2c-dd0e-61634e9a21c7"
      },
      "source": [
        "print(np.shape(photo_fluxw1))\n",
        "print(np.shape(photo_fluxw2))"
      ],
      "execution_count": null,
      "outputs": [
        {
          "output_type": "stream",
          "text": [
            "(62640,)\n",
            "(62640,)\n"
          ],
          "name": "stdout"
        }
      ]
    },
    {
      "cell_type": "code",
      "metadata": {
        "id": "UhF8CXPOqym5"
      },
      "source": [
        "photo_subclass_num = np.zeros(np.shape(photo_subclass))\n",
        "\n",
        "AGN_ind = photo_subclass=='AGN'\n",
        "photo_subclass_num[AGN_ind] = 0\n",
        "AGN_broad_ind = photo_subclass=='AGN BROADLINE'\n",
        "photo_subclass_num[AGN_broad_ind] = 1\n",
        "broad_ind = photo_subclass=='BROADLINE'\n",
        "photo_subclass_num[broad_ind] = 2\n",
        "starburst_ind = photo_subclass=='STARBURST'\n",
        "photo_subclass_num[starburst_ind] = 3\n",
        "starforming_ind = photo_subclass=='STARFORMING'\n",
        "photo_subclass_num[starforming_ind] = 4\n",
        "star_broad_ind = photo_subclass=='STARFORMING BROADLINE'\n",
        "photo_subclass_num[star_broad_ind] = 5\n",
        "none_ind = photo_subclass == ' '\n",
        "photo_subclass_num[none_ind] = 6\n",
        "\n",
        "photo_subclass_names = ['AGN','AGN BROADLINE','BROADLINE','STARBURST','STARFORMING','STARFORMING BROADLINE']\n",
        "photo_subclass_names_all = ['AGN','AGN BROADLINE','BROADLINE','STARBURST','STARFORMING','STARFORMING BROADLINE','NONE']"
      ],
      "execution_count": null,
      "outputs": []
    },
    {
      "cell_type": "code",
      "metadata": {
        "id": "F-XTapfE0NCb"
      },
      "source": [
        "subclass_names = []\n",
        "for i in subclass:\n",
        "  if i == 2:\n",
        "    subclass_names.append('ABSORPTION')\n",
        "  elif i == 3:\n",
        "    subclass_names.append('NORMAL')\n",
        "  elif i == 4:\n",
        "    subclass_names.append('EMISSION LINE')\n",
        "  elif i == 5:\n",
        "    subclass_names.append('NARROW-LINE QSO')"
      ],
      "execution_count": null,
      "outputs": []
    },
    {
      "cell_type": "code",
      "metadata": {
        "id": "x88ppmDwyQqI"
      },
      "source": [
        "subclass_names_alone = ['ABSORPTION','NORMAL','EMISSION LINE','NARROW-LINE-QSO']"
      ],
      "execution_count": null,
      "outputs": []
    },
    {
      "cell_type": "markdown",
      "metadata": {
        "id": "r3RotkD5gR8J"
      },
      "source": [
        "# Data pre-processing"
      ]
    },
    {
      "cell_type": "code",
      "metadata": {
        "colab": {
          "base_uri": "https://localhost:8080/"
        },
        "id": "o7ZjzV1NgV_A",
        "outputId": "d56570d2-3484-4389-de50-8ffd58aa996a"
      },
      "source": [
        "#%% Calculating wavlength grid from coefficients\n",
        "\n",
        "log_wavelengths = data['coeff0'] + data['coeff1'] * np.arange(0, X.shape[1], 1)\n",
        "wavelengths = [10**i for i in log_wavelengths]\n",
        "\n",
        "#%% Selecting only galaxies (spec_cln = 2)\n",
        "\n",
        "#galaxy_ind = data['spec_cln'] == 2\n",
        "#X = data['spectra'][galaxy_ind]\n",
        "#subclass = data['lineindex_cln'][galaxy_ind]\n",
        "#z = data['z'][galaxy_ind]\n",
        "#z_err = data['zerr'][galaxy_ind]\n",
        "#spec_err = data['spec_err'][galaxy_ind]\n",
        "\n",
        "#%% Set any negative spikes in flux to zero and set the corresponding error to zero\n",
        "\n",
        "neg_ind = X <= 0.\n",
        "X[neg_ind] = 0.\n",
        "spec_err[neg_ind] = 0.\n",
        "\n",
        "#%% Set zero fluxes to NaN\n",
        "\n",
        "X_nonan = X.copy()\n",
        "zero_ind = X == 0.\n",
        "X[zero_ind] = np.NaN\n",
        "\n",
        "#%% Set all zero and negative flux errors to NaN\n",
        "\n",
        "zero_err_ind = spec_err <= 0.\n",
        "spec_err[zero_err_ind] = np.NaN\n",
        "\n",
        "#%% Normalise spectrum\n",
        "X_normal, norm = preprocessing.normalize(X_nonan, return_norm=True)\n",
        "X_norm_zeros = np.copy(X_normal)\n",
        "\n",
        "#%% Plot an example spectrum in the data\n",
        "#plt.figure()\n",
        "#plt.plot(wavelengths,X_normal[4])\n",
        "#plt.show()\n",
        "\n",
        "#%% Set all zero normalised fluxes to nan\n",
        "zero_norm_ind = X_normal == 0.\n",
        "X_normal[zero_norm_ind] = np.NaN\n",
        "\n",
        "#%% Transform errors due to corresponding normalisation\n",
        "spec_err_T = np.transpose(spec_err)\n",
        "spec_err_norm_T = np.divide(spec_err_T,norm)\n",
        "spec_err_norm = np.transpose(spec_err_norm_T)\n",
        "#spec_err_norm_copy = spec_err_norm.copy()\n",
        "\n",
        "# %% Cap errors at a lower limit of 1e-3 times the flux\n",
        "# cap_counter = 0\n",
        "# for spectra in range(len(spec_err_norm)):\n",
        "#     for pixel in range(len(spec_err_norm[spectra])):\n",
        "#         if np.isnan(spec_err_norm[spectra][pixel]) == False and spec_err_norm[spectra][pixel] < 1e-3 * X_normal[spectra][pixel]:\n",
        "#             spec_err_norm[spectra][pixel] = 1e-3 * X_normal[spectra][pixel]\n",
        "#             cap_counter += 1\n",
        "# print(\"Number of capped errors\", cap_counter)\n",
        "\n",
        "# %% NEW WAY OF CAPPING ERRORS\n",
        "spec_err_norm_flattened = spec_err_norm.flatten()\n",
        "X_normal_flattened = X_normal.flatten()\n",
        "spec_err_norm_cap_ind = np.flatnonzero(~np.isnan(spec_err_norm_flattened))\n",
        "X_normal_scaled3 = X_normal_flattened[~np.isnan(spec_err_norm_flattened)] * 1e-3\n",
        "cap_counter1 = np.flatnonzero(spec_err_norm_flattened[~np.isnan(spec_err_norm_flattened)] < X_normal_scaled3)\n",
        "for i in cap_counter1:\n",
        "  spec_err_norm_flattened[spec_err_norm_cap_ind[i]] = X_normal_flattened[spec_err_norm_cap_ind[i]] * 1e-3\n",
        "spec_err_norm = spec_err_norm_flattened.reshape(X_normal.shape)\n",
        "print(\"Number of capped errors\", cap_counter1.size)\n",
        "\n",
        "#%% Spectra errors with infs instead of nans\n",
        "spec_err_norm_inf = np.nan_to_num(spec_err_norm,nan=np.inf)\n",
        "\n",
        "# Mask where errors are infinite\n",
        "mask_err = np.zeros(np.shape(spec_err_norm), dtype=bool)\n",
        "spec_err_inf_ind = spec_err_norm_inf == np.inf\n",
        "mask_err[spec_err_inf_ind] = True\n",
        "\n",
        "# Include mask from spectroscopy data\n",
        "mask_err[mask] = True\n",
        "spec_err_norm_inf[mask] = np.inf\n",
        "spec_err_norm[mask] = np.nan\n",
        "\n",
        "#%% Plot mean spectrum\n",
        "mu = np.nanmean(X_normal, axis=0)\n",
        "std = np.nanstd(X_normal, axis=0)\n",
        "#mu = X_norm_zeros.mean(0)\n",
        "#std = X_norm_zeros.std(0)\n",
        "mean_err = np.nanmean(spec_err_norm, axis=0)\n",
        "plt.figure(figsize=(20,10))\n",
        "plt.plot(wavelengths, mu, color = 'black', label='Mean spectrum')\n",
        "plt.fill_between(wavelengths, mu - std, mu + std , color = 'lightgrey', label='Standard deviation')\n",
        "plt.fill_between(wavelengths, mu - mean_err, mu + mean_err , color = 'grey', label = 'Mean error from SDSS')\n",
        "plt.xlim(wavelengths[0], wavelengths[-1])\n",
        "plt.ylim(0,0.06)\n",
        "plt.xlabel('Wavelength [$\\AA$]')\n",
        "plt.ylabel('Scaled flux')\n",
        "plt.title('Mean spectrum')\n",
        "plt.legend()\n",
        "plt.show()"
      ],
      "execution_count": null,
      "outputs": [
        {
          "output_type": "stream",
          "text": [
            "Number of capped errors 263722\n"
          ],
          "name": "stdout"
        },
        {
          "output_type": "display_data",
          "data": {
            "image/png": "[encoded data removed]",
            "text/plain": [
              "<Figure size 1440x720 with 1 Axes>"
            ]
          },
          "metadata": {
            "tags": [],
            "needs_background": "light"
          }
        }
      ]
    },
    {
      "cell_type": "markdown",
      "metadata": {
        "id": "Q4SUOphcweSF"
      },
      "source": [
        "# Iterative PCA"
      ]
    },
    {
      "cell_type": "code",
      "metadata": {
        "colab": {
          "base_uri": "https://localhost:8080/"
        },
        "id": "k6m4g2hPwkE0",
        "outputId": "9f74f110-4ffa-43ca-fb2d-9eddb26d6465"
      },
      "source": [
        "!pip install astroML"
      ],
      "execution_count": null,
      "outputs": [
        {
          "output_type": "stream",
          "text": [
            "Requirement already satisfied: astroML in c:\\programdata\\anaconda3\\lib\\site-packages (0.4.1)\n",
            "Requirement already satisfied: astropy>=1.2 in c:\\programdata\\anaconda3\\lib\\site-packages (from astroML) (4.0)\n",
            "Requirement already satisfied: scipy>=0.11 in c:\\programdata\\anaconda3\\lib\\site-packages (from astroML) (1.4.1)\n",
            "Requirement already satisfied: scikit-learn>=0.18 in c:\\programdata\\anaconda3\\lib\\site-packages (from astroML) (0.22.1)\n",
            "Requirement already satisfied: numpy>=1.4 in c:\\programdata\\anaconda3\\lib\\site-packages (from astroML) (1.18.1)\n",
            "Requirement already satisfied: matplotlib>=0.99 in c:\\programdata\\anaconda3\\lib\\site-packages (from astroML) (3.1.3)\n",
            "Requirement already satisfied: cycler>=0.10 in c:\\programdata\\anaconda3\\lib\\site-packages (from matplotlib>=0.99->astroML) (0.10.0)\n",
            "Requirement already satisfied: kiwisolver>=1.0.1 in c:\\programdata\\anaconda3\\lib\\site-packages (from matplotlib>=0.99->astroML) (1.1.0)\n",
            "Requirement already satisfied: pyparsing!=2.0.4,!=2.1.2,!=2.1.6,>=2.0.1 in c:\\programdata\\anaconda3\\lib\\site-packages (from matplotlib>=0.99->astroML) (2.4.6)\n",
            "Requirement already satisfied: python-dateutil>=2.1 in c:\\programdata\\anaconda3\\lib\\site-packages (from matplotlib>=0.99->astroML) (2.8.1)\n",
            "Requirement already satisfied: six in c:\\programdata\\anaconda3\\lib\\site-packages (from cycler>=0.10->matplotlib>=0.99->astroML) (1.14.0)\n",
            "Requirement already satisfied: setuptools in c:\\programdata\\anaconda3\\lib\\site-packages (from kiwisolver>=1.0.1->matplotlib>=0.99->astroML) (46.0.0.post20200309)\n",
            "Requirement already satisfied: joblib>=0.11 in c:\\programdata\\anaconda3\\lib\\site-packages (from scikit-learn>=0.18->astroML) (0.14.1)\n"
          ],
          "name": "stdout"
        }
      ]
    },
    {
      "cell_type": "code",
      "metadata": {
        "id": "yLs08_Nnwlxz"
      },
      "source": [
        "from astroML.dimensionality import iterative_pca"
      ],
      "execution_count": null,
      "outputs": []
    },
    {
      "cell_type": "code",
      "metadata": {
        "colab": {
          "base_uri": "https://localhost:8080/"
        },
        "id": "xzQ15YoE4Fts",
        "outputId": "b44715c9-d34f-45bf-8ac0-7eb0a21611c7"
      },
      "source": [
        "_, mu_iter2, evecs2, evals2, _, iter_coeffs2 = iterative_pca(X_norm_zeros, mask_err, n_ev=2, n_iter=20, norm='L2', full_output=True)\n",
        "_, mu_iter4, evecs4, evals4, _, iter_coeffs4 = iterative_pca(X_norm_zeros, mask_err, n_ev=4, n_iter=20, norm='L2', full_output=True)\n",
        "_, mu_iter6, evecs6, evals6, _, iter_coeffs6 = iterative_pca(X_norm_zeros, mask_err, n_ev=6, n_iter=20, norm='L2', full_output=True)\n",
        "_, mu_iter8, evecs8, evals8, _, iter_coeffs8 = iterative_pca(X_norm_zeros, mask_err, n_ev=8, n_iter=20, norm='L2', full_output=True)\n",
        "_, mu_iter10, evecs10, evals10, _, iter_coeffs10 = iterative_pca(X_norm_zeros, mask_err, n_ev=10, n_iter=20, norm='L2', full_output=True)"
      ],
      "execution_count": null,
      "outputs": [
        {
          "output_type": "stream",
          "text": [
            "\n",
            "\n",
            "\n",
            "\n",
            "\n"
          ],
          "name": "stdout"
        }
      ]
    },
    {
      "cell_type": "code",
      "metadata": {
        "id": "T68gZSKpeoxa"
      },
      "source": [
        "np.savez('iterative_2.npz', mu_iter2=mu_iter2, evecs2=evecs2, evals2=evals2, iter_coeffs2=iter_coeffs2)\n",
        "np.savez('iterative_4.npz', mu_iter4=mu_iter4, evecs4=evecs4, evals4=evals4, iter_coeffs4=iter_coeffs4)\n",
        "np.savez('iterative_6.npz', mu_iter6=mu_iter6, evecs6=evecs6, evals6=evals6, iter_coeffs6=iter_coeffs6)\n",
        "np.savez('iterative_8.npz', mu_iter8=mu_iter8, evecs8=evecs8, evals8=evals8, iter_coeffs8=iter_coeffs8)\n",
        "np.savez('iterative_10.npz', mu_iter10=mu_iter10, evecs10=evecs10, evals10=evals10, iter_coeffs10=iter_coeffs10)"
      ],
      "execution_count": null,
      "outputs": []
    },
    {
      "cell_type": "markdown",
      "metadata": {
        "id": "GTJ8F6mD6gD7"
      },
      "source": [
        "# Standard PCA"
      ]
    },
    {
      "cell_type": "code",
      "metadata": {
        "id": "1zQwCoVc7gOY"
      },
      "source": [
        "pca2 = PCA(n_components=2, random_state=0)\n",
        "X_red2 = pca2.fit_transform(X_norm_zeros)\n",
        "np.savez('standard_2.npz', X_red2=X_red2, pca2mean=pca2.mean_, pca2components=pca2.components_)"
      ],
      "execution_count": null,
      "outputs": []
    },
    {
      "cell_type": "code",
      "metadata": {
        "id": "bumU-Ba67veZ"
      },
      "source": [
        "pca4 = PCA(n_components=4, random_state=0)\n",
        "X_red4 = pca4.fit_transform(X_norm_zeros)\n",
        "np.savez('standard_4.npz', X_red4=X_red4, pca4mean=pca4.mean_, pca4components=pca4.components_)"
      ],
      "execution_count": null,
      "outputs": []
    },
    {
      "cell_type": "code",
      "metadata": {
        "id": "FWT8jHZq7wuQ"
      },
      "source": [
        "pca6 = PCA(n_components=6, random_state=0)\n",
        "X_red6 = pca6.fit_transform(X_norm_zeros)\n",
        "np.savez('standard_6.npz', X_red6=X_red6, pca6mean=pca6.mean_, pca6components=pca6.components_)"
      ],
      "execution_count": null,
      "outputs": []
    },
    {
      "cell_type": "code",
      "metadata": {
        "id": "z-eFg2Eb7xGq"
      },
      "source": [
        "pca8 = PCA(n_components=8, random_state=0)\n",
        "X_red8 = pca8.fit_transform(X_norm_zeros)\n",
        "np.savez('standard_8.npz', X_red8=X_red8, pca8mean=pca8.mean_, pca8components=pca8.components_)"
      ],
      "execution_count": null,
      "outputs": []
    },
    {
      "cell_type": "code",
      "metadata": {
        "id": "658AfCb67xlu"
      },
      "source": [
        "pca10 = PCA(n_components=10, random_state=0)\n",
        "X_red10 = pca10.fit_transform(X_norm_zeros)\n",
        "np.savez('standard_10.npz', X_red10=X_red10, pca10mean=pca10.mean_, pca10components=pca10.components_)"
      ],
      "execution_count": null,
      "outputs": []
    },
    {
      "cell_type": "markdown",
      "metadata": {
        "id": "tyR1-aOifiJX"
      },
      "source": [
        "# Switch to hosted runtime"
      ]
    },
    {
      "cell_type": "code",
      "metadata": {
        "id": "L0fh7UTFSE4v"
      },
      "source": [
        "import os\n",
        "os.environ[\"XLA_PYTHON_CLIENT_PREALLOCATE\"] = \"false\"  \n",
        "import jax\n",
        "from jax.interpreters import xla\n",
        "xla._xla_callable.cache_clear()\n",
        "\n",
        "from jax.config import config\n",
        "config.update(\"jax_enable_x64\", True)\n",
        "\n",
        "import jax.numpy as jnp\n",
        "from jax import jit, vmap, device_put, partial\n",
        "from jax.ops import index, index_update"
      ],
      "execution_count": null,
      "outputs": []
    },
    {
      "cell_type": "markdown",
      "metadata": {
        "id": "S3oFQBqPx3bJ"
      },
      "source": [
        "# Load iterative PCA data"
      ]
    },
    {
      "cell_type": "code",
      "metadata": {
        "id": "jK_6Czy4n6Y3"
      },
      "source": [
        "with np.load('iterative_2.npz') as file_name:\n",
        "    mu_iter2 = file_name['mu_iter2']\n",
        "    evecs2 = file_name['evecs2']\n",
        "    evals2 = file_name['evals2']\n",
        "    iter_coeffs2 = file_name['iter_coeffs2']"
      ],
      "execution_count": null,
      "outputs": []
    },
    {
      "cell_type": "code",
      "metadata": {
        "id": "CburZI9-wfa1"
      },
      "source": [
        "with np.load('iterative_4.npz') as file_name:\n",
        "    mu_iter4 = file_name['mu_iter4']\n",
        "    evecs4 = file_name['evecs4']\n",
        "    evals4 = file_name['evals4']\n",
        "    iter_coeffs4 = file_name['iter_coeffs4']"
      ],
      "execution_count": null,
      "outputs": []
    },
    {
      "cell_type": "code",
      "metadata": {
        "id": "7Z_F1SzywgXD"
      },
      "source": [
        "with np.load('iterative_6.npz') as file_name:\n",
        "    mu_iter6 = file_name['mu_iter6']\n",
        "    evecs6 = file_name['evecs6']\n",
        "    evals6 = file_name['evals6']\n",
        "    iter_coeffs6 = file_name['iter_coeffs6']"
      ],
      "execution_count": null,
      "outputs": []
    },
    {
      "cell_type": "code",
      "metadata": {
        "id": "Hq8R8W6Mwgxk"
      },
      "source": [
        "with np.load('iterative_8.npz') as file_name:\n",
        "    mu_iter8 = file_name['mu_iter8']\n",
        "    evecs8 = file_name['evecs8']\n",
        "    evals8 = file_name['evals8']\n",
        "    iter_coeffs8 = file_name['iter_coeffs8']"
      ],
      "execution_count": null,
      "outputs": []
    },
    {
      "cell_type": "code",
      "metadata": {
        "id": "QSVNWYilwjEJ"
      },
      "source": [
        "with np.load('iterative_10.npz') as file_name:\n",
        "    mu_iter10 = file_name['mu_iter10']\n",
        "    evecs10 = file_name['evecs10']\n",
        "    evals10 = file_name['evals10']\n",
        "    iter_coeffs10 = file_name['iter_coeffs10']"
      ],
      "execution_count": null,
      "outputs": []
    },
    {
      "cell_type": "markdown",
      "metadata": {
        "id": "G1DpW_JTx6-l"
      },
      "source": [
        "# Bayesian PCA functions"
      ]
    },
    {
      "cell_type": "markdown",
      "metadata": {
        "id": "HAcdniY3ynhC"
      },
      "source": [
        "## Bayesian PCA"
      ]
    },
    {
      "cell_type": "code",
      "metadata": {
        "id": "RXUVbb0KPk42"
      },
      "source": [
        "def sig_inv_diag_all(spec_err_norm_inf):\n",
        "  sig_inv_diag_arr = spec_err_norm_inf ** (-2)\n",
        "  log_sig = np.log(sig_inv_diag_arr)\n",
        "  log_sig[log_sig == -np.inf] = 0.\n",
        "  logdet_sig_arr = np.array([np.sum(i) for i in log_sig])\n",
        "  return sig_inv_diag_arr, logdet_sig_arr"
      ],
      "execution_count": null,
      "outputs": []
    },
    {
      "cell_type": "code",
      "metadata": {
        "colab": {
          "base_uri": "https://localhost:8080/"
        },
        "id": "DfbgCPLYPlXG",
        "outputId": "07bae616-802c-403a-b0a6-aba0e90f237e"
      },
      "source": [
        "sig_inv_diag_arr, logdet_sig_inv_arr = sig_inv_diag_all(spec_err_norm_inf)"
      ],
      "execution_count": null,
      "outputs": [
        {
          "output_type": "stream",
          "text": [
            "/usr/local/lib/python3.7/dist-packages/ipykernel_launcher.py:3: RuntimeWarning: divide by zero encountered in log\n",
            "  This is separate from the ipykernel package so we can avoid doing imports until\n"
          ],
          "name": "stderr"
        }
      ]
    },
    {
      "cell_type": "code",
      "metadata": {
        "id": "xxMHGyQ8EfUV"
      },
      "source": [
        "def ln_onespec(W,ident, X_mu_zeros_n, sig_inv_diag, logdet_sig_inv):\n",
        "  sig_inv_W = sig_inv_diag[:,None]*W\n",
        "\n",
        "  M = ident + jnp.matmul(W.T, sig_inv_W)\n",
        "  M_inv = jnp.linalg.solve(M,ident)\n",
        "  _, logdet_M = jnp.linalg.slogdet(M)\n",
        "\n",
        "  W_sig = sig_inv_W.T\n",
        "  W_sig_X = jnp.matmul(W_sig, X_mu_zeros_n)\n",
        "  Minv_W_sig_X = jnp.matmul(M_inv, W_sig_X)\n",
        "  Cinv_2 = jnp.matmul(sig_inv_W, Minv_W_sig_X)\n",
        "  Cinv_1 = sig_inv_diag*X_mu_zeros_n\n",
        "  Cinv_X = Cinv_1 - Cinv_2\n",
        "    \n",
        "  l_n = -0.5*X_mu_zeros_n.shape[0]*jnp.log(2*jnp.pi) -0.5*(logdet_M - logdet_sig_inv) -0.5*jnp.matmul(X_mu_zeros_n.T, Cinv_X)  \n",
        "\n",
        "  return l_n"
      ],
      "execution_count": null,
      "outputs": []
    },
    {
      "cell_type": "code",
      "metadata": {
        "id": "x2DyqMA-Elwh"
      },
      "source": [
        "def ln_allspec(W, data1):\n",
        "  ident, X_mu_zeros, sig_inv_diag_arr, logdet_sig_arr = data1\n",
        "  W = W[0]\n",
        "  return -sum(vmap(ln_onespec, in_axes=(None,None,0,0,0))(W, ident, X_mu_zeros, sig_inv_diag_arr, logdet_sig_arr))"
      ],
      "execution_count": null,
      "outputs": []
    },
    {
      "cell_type": "code",
      "metadata": {
        "id": "NUfL4aQpYVeO"
      },
      "source": [
        "from jax.experimental import optimizers\n",
        "\n",
        "def optimise(W,learning_rate,num_iterations):\n",
        "  param_list = [1*W]\n",
        "  opt_init, opt_update, get_params = jax.experimental.optimizers.adam(learning_rate)\n",
        "  opt_state = opt_init(param_list)\n",
        "  \n",
        "  @jit\n",
        "  def update(step, opt_state, data1):\n",
        "    params = get_params(opt_state)\n",
        "    value, grads = jax.value_and_grad(ln_allspec)(params,data1)\n",
        "    opt_state = opt_update(step, grads, opt_state)\n",
        "    return value, opt_state\n",
        "    \n",
        "  ln = []\n",
        "  data1 = (jnp.identity(W.shape[1]), jnp.array(X_mu_zeros), jnp.array(sig_inv_diag_arr), jnp.array(logdet_sig_inv_arr))\n",
        "  for step in range(num_iterations):\n",
        "    ln_value, opt_state = update(step, opt_state, data1)\n",
        "    ln.append(ln_value)\n",
        "  \n",
        "  # optimised matrix:\n",
        "  W_new_optimised = get_params(opt_state)\n",
        "  return W_new_optimised[0], ln"
      ],
      "execution_count": null,
      "outputs": []
    },
    {
      "cell_type": "code",
      "metadata": {
        "id": "yJWHdtKfNcWj"
      },
      "source": [
        "def optimise_batched(W,learning_rate,num_iterations, X_mu_zeros_n):\n",
        "  param_list = [1*W]\n",
        "  opt_init, opt_update, get_params = jax.experimental.optimizers.adam(learning_rate)\n",
        "  opt_state = opt_init(param_list)\n",
        "  \n",
        "  @jit\n",
        "  def update(step, opt_state, data1):\n",
        "    params = get_params(opt_state)\n",
        "    value, grads = jax.value_and_grad(ln_allspec)(params,data1)\n",
        "    opt_state = opt_update(step, grads, opt_state)\n",
        "    return value, opt_state\n",
        "\n",
        "  batch_size = 2000  \n",
        "  ln = []\n",
        "  for step in range(num_iterations):\n",
        "    ln_iter = 0\n",
        "    for batch in range(32):\n",
        "      data1 = (jnp.identity(W.shape[1]),jnp.array(X_mu_zeros_n[batch*batch_size:(batch+1)*batch_size]), jnp.array(sig_inv_diag_arr[batch*batch_size:(batch+1)*batch_size]), jnp.array(logdet_sig_inv_arr[batch*batch_size:(batch+1)*batch_size]))\n",
        "      ln_value, opt_state = update(step, opt_state, data1)\n",
        "      ln_iter += ln_value\n",
        "    ln.append(ln_iter)\n",
        "  \n",
        "  # optimised matrix:\n",
        "  W_new_optimised = get_params(opt_state)\n",
        "  return W_new_optimised[0], ln"
      ],
      "execution_count": null,
      "outputs": []
    },
    {
      "cell_type": "markdown",
      "metadata": {
        "id": "NcIIBIvKypHa"
      },
      "source": [
        "## Bayesian coeffs"
      ]
    },
    {
      "cell_type": "code",
      "metadata": {
        "id": "06H4wI5yWO-d"
      },
      "source": [
        "# Function to retrieve PCA coefficients from a PCA\n",
        "def bayesian_coeffs(W, X_mu_zeros_n, sig_inv_diag, ident):\n",
        "  W_siginv_X = np.matmul(W.T,sig_inv_diag*X_mu_zeros_n)\n",
        "  M = np.matmul(W.T, sig_inv_diag[:, None]*W) + ident\n",
        "  z_map = np.linalg.solve(M, W_siginv_X)\n",
        "  return z_map"
      ],
      "execution_count": null,
      "outputs": []
    },
    {
      "cell_type": "code",
      "metadata": {
        "id": "B8RbGH6jeHGk"
      },
      "source": [
        "# Retrieve coefficients for all arrays\n",
        "def bayesian_coeffs_all(W_new, X_mu_zeros):\n",
        "  W_optimised_arr = np.asarray(W_new)\n",
        "  coeffs_optimised = np.zeros(np.shape(W_new)[1])\n",
        "  for i in range(X_mu_zeros.shape[0]):\n",
        "    coeffs_optimised = np.vstack((coeffs_optimised, bayesian_coeffs(W_optimised_arr, X_mu_zeros[i],sig_inv_diag_arr[i], jnp.identity(W_new.shape[1]))))\n",
        "  coeffs_optimised = np.delete(coeffs_optimised, 0, 0)\n",
        "  return coeffs_optimised"
      ],
      "execution_count": null,
      "outputs": []
    },
    {
      "cell_type": "markdown",
      "metadata": {
        "id": "tMgdSLuFzlVx"
      },
      "source": [
        "# Run Bayesian PCA"
      ]
    },
    {
      "cell_type": "code",
      "metadata": {
        "id": "aljDJ-mr09fs",
        "colab": {
          "base_uri": "https://localhost:8080/",
          "height": 327
        },
        "outputId": "04111289-08f5-4f58-c536-804d9bfa586b"
      },
      "source": [
        "W2 = evecs2[:2].T\n",
        "X_mu_zeros2 = np.nan_to_num(X_normal - mu_iter2,nan=0.)\n",
        "W2_new_lr4, ln2_lr4 = optimise_batched(W2,learning_rate = 1e-4,num_iterations = 100, X_mu_zeros_n=X_mu_zeros2)\n",
        "coeffs2 = bayesian_coeffs_all(W2_new_lr4, X_mu_zeros2)\n",
        "plt.plot(ln2_lr4)"
      ],
      "execution_count": null,
      "outputs": [
        {
          "output_type": "stream",
          "text": [
            "WARNING:absl:No GPU/TPU found, falling back to CPU. (Set TF_CPP_MIN_LOG_LEVEL=0 and rerun for more info.)\n"
          ],
          "name": "stderr"
        },
        {
          "output_type": "execute_result",
          "data": {
            "text/plain": [
              "[<matplotlib.lines.Line2D at 0x7f488df88150>]"
            ]
          },
          "metadata": {
            "tags": []
          },
          "execution_count": 59
        },
        {
          "output_type": "display_data",
          "data": {
            "image/png": "[encoded data removed]",
            "text/plain": [
              "<Figure size 432x288 with 1 Axes>"
            ]
          },
          "metadata": {
            "tags": [],
            "needs_background": "light"
          }
        }
      ]
    },
    {
      "cell_type": "code",
      "metadata": {
        "id": "zG1Mnm0X1JQV"
      },
      "source": [
        "np.savez('bayesian_2.npz', X_mu_zeros2=X_mu_zeros2, W2_new_lr4=W2_new_lr4, ln2_lr4=ln2_lr4, coeffs2=coeffs2)"
      ],
      "execution_count": null,
      "outputs": []
    },
    {
      "cell_type": "code",
      "metadata": {
        "id": "SCZ697AS1Bra",
        "colab": {
          "base_uri": "https://localhost:8080/",
          "height": 327
        },
        "outputId": "315799ca-b6ba-43d4-900d-9f2fb75ac166"
      },
      "source": [
        "W4 = evecs4[:4].T\n",
        "X_mu_zeros4 = np.nan_to_num(X_normal - mu_iter4,nan=0.)\n",
        "W4_new_lr4, ln4_lr4 = optimise_batched(W4,learning_rate = 1e-4,num_iterations = 100, X_mu_zeros_n=X_mu_zeros4)\n",
        "coeffs4 = bayesian_coeffs_all(W4_new_lr4, X_mu_zeros4)\n",
        "plt.plot(ln4_lr4)"
      ],
      "execution_count": null,
      "outputs": [
        {
          "output_type": "stream",
          "text": [
            "WARNING:absl:No GPU/TPU found, falling back to CPU. (Set TF_CPP_MIN_LOG_LEVEL=0 and rerun for more info.)\n"
          ],
          "name": "stderr"
        },
        {
          "output_type": "execute_result",
          "data": {
            "text/plain": [
              "[<matplotlib.lines.Line2D at 0x7f1ffba3b1d0>]"
            ]
          },
          "metadata": {
            "tags": []
          },
          "execution_count": 27
        },
        {
          "output_type": "display_data",
          "data": {
            "image/png": "[encoded data removed]",
            "text/plain": [
              "<Figure size 432x288 with 1 Axes>"
            ]
          },
          "metadata": {
            "tags": [],
            "needs_background": "light"
          }
        }
      ]
    },
    {
      "cell_type": "code",
      "metadata": {
        "id": "h1X6MgX8o3Wa"
      },
      "source": [
        "np.savez('bayesian_4.npz', X_mu_zeros4=X_mu_zeros4, W4_new_lr4=W4_new_lr4, ln4_lr4=ln4_lr4, coeffs4=coeffs4)"
      ],
      "execution_count": null,
      "outputs": []
    },
    {
      "cell_type": "code",
      "metadata": {
        "id": "ouugMfJo1TTI",
        "colab": {
          "base_uri": "https://localhost:8080/",
          "height": 327
        },
        "outputId": "44be6c08-e68e-4dc9-ac46-68e5616504e3"
      },
      "source": [
        "W6 = evecs6[:6].T\n",
        "X_mu_zeros6 = np.nan_to_num(X_normal - mu_iter6,nan=0.)\n",
        "W6_new_lr4, ln6_lr4 = optimise_batched(W6,learning_rate = 1e-4,num_iterations = 100, X_mu_zeros_n=X_mu_zeros6)\n",
        "coeffs6 = bayesian_coeffs_all(W6_new_lr4, X_mu_zeros6)\n",
        "plt.plot(ln6_lr4)"
      ],
      "execution_count": null,
      "outputs": [
        {
          "output_type": "stream",
          "text": [
            "WARNING:absl:No GPU/TPU found, falling back to CPU. (Set TF_CPP_MIN_LOG_LEVEL=0 and rerun for more info.)\n"
          ],
          "name": "stderr"
        },
        {
          "output_type": "execute_result",
          "data": {
            "text/plain": [
              "[<matplotlib.lines.Line2D at 0x7fc4d756e950>]"
            ]
          },
          "metadata": {
            "tags": []
          },
          "execution_count": 27
        },
        {
          "output_type": "display_data",
          "data": {
            "image/png": "[encoded data removed]",
            "text/plain": [
              "<Figure size 432x288 with 1 Axes>"
            ]
          },
          "metadata": {
            "tags": [],
            "needs_background": "light"
          }
        }
      ]
    },
    {
      "cell_type": "code",
      "metadata": {
        "id": "LYPvby9surrB"
      },
      "source": [
        "np.savez('bayesian_6.npz', X_mu_zeros6=X_mu_zeros6, W6_new_lr4=W6_new_lr4, ln6_lr4=ln6_lr4, coeffs6=coeffs6)"
      ],
      "execution_count": null,
      "outputs": []
    },
    {
      "cell_type": "code",
      "metadata": {
        "id": "mC77zmnr1YUm",
        "colab": {
          "base_uri": "https://localhost:8080/",
          "height": 327
        },
        "outputId": "0f4b54a2-5ace-4af1-8b3c-35eee5d4ec1e"
      },
      "source": [
        "W8 = evecs8[:8].T\n",
        "X_mu_zeros8 = np.nan_to_num(X_normal - mu_iter8,nan=0.)\n",
        "W8_new_lr4, ln8_lr4 = optimise_batched(W8,learning_rate = 1e-4,num_iterations = 100, X_mu_zeros_n=X_mu_zeros8)\n",
        "coeffs8 = bayesian_coeffs_all(W8_new_lr4, X_mu_zeros8)\n",
        "plt.plot(ln8_lr4)"
      ],
      "execution_count": null,
      "outputs": [
        {
          "output_type": "stream",
          "text": [
            "WARNING:absl:No GPU/TPU found, falling back to CPU. (Set TF_CPP_MIN_LOG_LEVEL=0 and rerun for more info.)\n"
          ],
          "name": "stderr"
        },
        {
          "output_type": "execute_result",
          "data": {
            "text/plain": [
              "[<matplotlib.lines.Line2D at 0x7f98dda3a790>]"
            ]
          },
          "metadata": {
            "tags": []
          },
          "execution_count": 30
        },
        {
          "output_type": "display_data",
          "data": {
            "image/png": "[encoded data removed]",
            "text/plain": [
              "<Figure size 432x288 with 1 Axes>"
            ]
          },
          "metadata": {
            "tags": [],
            "needs_background": "light"
          }
        }
      ]
    },
    {
      "cell_type": "code",
      "metadata": {
        "id": "u-dCeUsxaAwW"
      },
      "source": [
        "np.savez('bayesian_8.npz', X_mu_zeros8=X_mu_zeros8, W8_new_lr4=W8_new_lr4, ln8_lr4=ln8_lr4, coeffs8=coeffs8)"
      ],
      "execution_count": null,
      "outputs": []
    },
    {
      "cell_type": "code",
      "metadata": {
        "id": "QKgLxmBe1axa",
        "colab": {
          "base_uri": "https://localhost:8080/"
        },
        "outputId": "a94363d7-e140-4b68-c83c-14859b361c73"
      },
      "source": [
        "W10 = evecs10[:10].T\n",
        "X_mu_zeros10 = np.nan_to_num(X_normal - mu_iter10,nan=0.)\n",
        "W10_new_lr4, ln10_lr4 = optimise_batched(W10,learning_rate = 1e-4,num_iterations = 100, X_mu_zeros_n=X_mu_zeros10)\n",
        "coeffs10 = bayesian_coeffs_all(W10_new_lr4, X_mu_zeros10)"
      ],
      "execution_count": null,
      "outputs": [
        {
          "output_type": "stream",
          "text": [
            "WARNING:absl:No GPU/TPU found, falling back to CPU. (Set TF_CPP_MIN_LOG_LEVEL=0 and rerun for more info.)\n"
          ],
          "name": "stderr"
        }
      ]
    },
    {
      "cell_type": "code",
      "metadata": {
        "id": "RNiw98fqXI9X"
      },
      "source": [
        "np.savez('bayesian_10.npz', X_mu_zeros10=X_mu_zeros10, W10_new_lr4=W10_new_lr4, ln10_lr4=ln10_lr4, coeffs10=coeffs10)"
      ],
      "execution_count": null,
      "outputs": []
    }
  ]
}