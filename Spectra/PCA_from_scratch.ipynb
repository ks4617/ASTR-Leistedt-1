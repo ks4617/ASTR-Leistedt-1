{
 "cells": [
  {
   "cell_type": "markdown",
   "metadata": {},
   "source": [
    "# PCA from Scratch"
   ]
  },
  {
   "cell_type": "markdown",
   "metadata": {},
   "source": [
    "Code is adapted from https://www.askpython.com/python/examples/principal-component-analysis"
   ]
  },
  {
   "cell_type": "code",
   "execution_count": 1,
   "metadata": {},
   "outputs": [],
   "source": [
    "import numpy as np\n",
    "import matplotlib.pyplot as plt\n",
    "import pandas as pd\n",
    "import seaborn as sb"
   ]
  },
  {
   "cell_type": "markdown",
   "metadata": {},
   "source": [
    "## Individual PCA Steps"
   ]
  },
  {
   "cell_type": "markdown",
   "metadata": {},
   "source": [
    "### 1. Make Random Dataset"
   ]
  },
  {
   "cell_type": "markdown",
   "metadata": {},
   "source": [
    "Prepare dataset and subtract mean from each data point so dataset is centred on origin (helpful when calculating covariance matrix). X has 20 rows and 5 columns, meaning 20 observations and 5 variables for each observation. "
   ]
  },
  {
   "cell_type": "code",
   "execution_count": 96,
   "metadata": {},
   "outputs": [],
   "source": [
    "np.random.seed(0)\n",
    "X = np.random.randint(10,50,100).reshape(20,5)\n",
    "X_meaned = X - np.mean(X, axis=0)"
   ]
  },
  {
   "cell_type": "markdown",
   "metadata": {},
   "source": [
    "### 2. Find Covariance Matrix S"
   ]
  },
  {
   "cell_type": "markdown",
   "metadata": {},
   "source": [
    "Find the covariance matrix $\\textbf{S}$. rowvar is set to False so that covariance matrix will be in the required dimensions.\n",
    "\n",
    "NB: If rowvar is True (default), then each row represents a variable, with observations in the columns. Otherwise, the relationship is transposed: each column represents a variable, while the rows contain observations.\n",
    "\n",
    "Equivalent to Eq. (12.3) in Bishop's book:\n",
    "\n",
    "$$\n",
    "\\textbf{S} = \\frac{1}{N-1} \\sum^{N}_{n=1}(\\textbf{x}_n - \\bar{\\textbf{x}})(\\textbf{x}_n - \\bar{\\textbf{x}})^T\n",
    "$$"
   ]
  },
  {
   "cell_type": "code",
   "execution_count": 177,
   "metadata": {},
   "outputs": [
    {
     "name": "stdout",
     "output_type": "stream",
     "text": [
      "[[179.8         -8.59473684  50.54736842  -6.2         64.66842105]\n",
      " [ -8.59473684 165.83947368 -30.66315789 -12.41052632  22.41842105]\n",
      " [ 50.54736842 -30.66315789 169.93684211 -10.66315789 -27.92631579]\n",
      " [ -6.2        -12.41052632 -10.66315789 164.48421053  -5.35789474]\n",
      " [ 64.66842105  22.41842105 -27.92631579  -5.35789474 142.57631579]]\n"
     ]
    }
   ],
   "source": [
    "S = np.cov(X_meaned, rowvar = False)\n",
    "print(S)\n",
    "\n",
    "# Alternative method by hand\n",
    "# S = np.dot(X_meaned.T, X_meaned)/19\n",
    "# print(S)"
   ]
  },
  {
   "cell_type": "markdown",
   "metadata": {},
   "source": [
    "### 3. Find Eigenvalues and Eigenvectors"
   ]
  },
  {
   "cell_type": "markdown",
   "metadata": {},
   "source": [
    "Find the eigenvalues ($\\lambda_i$) and eigenvectors ($\\textbf{u}_i$) of $\\textbf{S}$. Reverse the order so that they are both in descending order."
   ]
  },
  {
   "cell_type": "code",
   "execution_count": 181,
   "metadata": {},
   "outputs": [
    {
     "name": "stdout",
     "output_type": "stream",
     "text": [
      "[ 65.66356266 131.37884454 168.61711262 214.14741483 242.82990745]\n",
      "[[-0.77315999  0.19906038 -0.14948123  0.02658499  0.58270678]\n",
      " [ 0.16985938  0.59043927  0.26473045  0.74101872  0.05777807]\n",
      " [-0.50015656 -0.51537598  0.23161017  0.47763605 -0.44994616]\n",
      " [ 0.12478878 -0.12379376 -0.90074708  0.39504172 -0.04122629]\n",
      " [-0.32808931  0.57516879 -0.20636032 -0.25688584 -0.67302552]]\n"
     ]
    }
   ],
   "source": [
    "evals, evecs = np.linalg.eigh(S)\n",
    "evals = np.flip(evals)\n",
    "evecs = np.flip(evecs, axis = 1)"
   ]
  },
  {
   "cell_type": "markdown",
   "metadata": {},
   "source": [
    "### 4. Select the Number of Principal Components"
   ]
  },
  {
   "cell_type": "markdown",
   "metadata": {},
   "source": [
    "Start by plotting the cumulative percentage of total variance described by each principal component."
   ]
  },
  {
   "cell_type": "code",
   "execution_count": 182,
   "metadata": {},
   "outputs": [],
   "source": [
    "var = evals/np.sum(evals)\n",
    "cum_var = np.cumsum(var)\n"
   ]
  },
  {
   "cell_type": "code",
   "execution_count": 183,
   "metadata": {},
   "outputs": [
    {
     "data": {
      "image/png": "[encoded data removed]",
      "text/plain": [
       "<Figure size 432x288 with 1 Axes>"
      ]
     },
     "metadata": {
      "needs_background": "light"
     },
     "output_type": "display_data"
    }
   ],
   "source": [
    "plt.figure()\n",
    "plt.plot(np.array(range(1,len(evals)+1)), var, label = 'Variance %', color = 'tab:blue')\n",
    "plt.plot(np.array(range(1,len(evals)+1)), var, 'x', color = 'tab:blue', markersize = 10)\n",
    "plt.plot(np.array(range(1,len(evals)+1)), cum_var, label = 'Cumulative variance %', color = 'tab:green')\n",
    "plt.plot(np.array(range(1,len(evals)+1)), cum_var, '+', color = 'tab:green', markersize = 10)\n",
    "plt.xlabel('Number of principal components')\n",
    "plt.ylabel('Variance %')\n",
    "plt.xticks(np.array(range(1,len(evals)+1)))\n",
    "plt.legend()\n",
    "plt.show()"
   ]
  },
  {
   "cell_type": "markdown",
   "metadata": {},
   "source": [
    "Visually the biggest decrease in added variance % is between 4 and 5 principal components, so we select 4 principal components. We can also compute this mathematically:"
   ]
  },
  {
   "cell_type": "code",
   "execution_count": 184,
   "metadata": {},
   "outputs": [
    {
     "name": "stdout",
     "output_type": "stream",
     "text": [
      "Optimal number of principal components: 4\n"
     ]
    }
   ],
   "source": [
    "var_diff = [var[i] - var[i+1] for i in range(len(var)-1)]\n",
    "n_components = var_diff.index(max(var_diff))+1\n",
    "print('Optimal number of principal components:', n_components)"
   ]
  },
  {
   "cell_type": "markdown",
   "metadata": {},
   "source": [
    "### 5. Transform Data"
   ]
  },
  {
   "cell_type": "code",
   "execution_count": 82,
   "metadata": {},
   "outputs": [],
   "source": [
    "evecs_subset = evecs[:,0:n_components]\n",
    "X_reduced = np.dot(evecs_subset.T, X_meaned.T).T"
   ]
  },
  {
   "cell_type": "markdown",
   "metadata": {},
   "source": [
    "<code style=\"background:yellow;color:black\"> What is the mathematical equation for this? </code>"
   ]
  },
  {
   "cell_type": "markdown",
   "metadata": {},
   "source": [
    "## Making PCA Function and Testing"
   ]
  },
  {
   "cell_type": "markdown",
   "metadata": {},
   "source": [
    "### Making PCA Function"
   ]
  },
  {
   "cell_type": "code",
   "execution_count": 185,
   "metadata": {},
   "outputs": [],
   "source": [
    "def PCA_fs(X,n_components=None):\n",
    "    ''' PCA function adapted from https://www.askpython.com/python/examples/principal-component-analysis\n",
    "    Input:\n",
    "    X: numpy nd.array\n",
    "    n_components: Denotes the number of principal components; can be integer or None with default as n_components = None.\n",
    "                  If None, function will automatically the optimal number of principal components based by finding the maximum\n",
    "                  decrease in added variance %\n",
    "    Returns:\n",
    "    X_reduced: The dataset with redu\n",
    "\n",
    "    '''\n",
    "     \n",
    "    #Step-1\n",
    "    X_meaned = X - np.mean(X , axis = 0)\n",
    "     \n",
    "    #Step-2\n",
    "    S = np.cov(X_meaned , rowvar = False)\n",
    "     \n",
    "    #Step-3\n",
    "    evals , evecs = np.linalg.eigh(S)\n",
    "    evals = np.flip(evals)\n",
    "    evecs = np.flip(evecs, axis = 1)\n",
    "     \n",
    "    #Step-4\n",
    "    var = evals/np.sum(evals)\n",
    "    cum_var = np.cumsum(var)\n",
    "    \n",
    "    plt.figure()\n",
    "    plt.plot(np.array(range(1,len(evals)+1)), var, label = 'Variance %', color = 'tab:blue')\n",
    "    plt.plot(np.array(range(1,len(evals)+1)), var, 'x', color = 'tab:blue', markersize = 10)\n",
    "    plt.plot(np.array(range(1,len(evals)+1)), cum_var, label = 'Cumulative variance %', color = 'tab:green')\n",
    "    plt.plot(np.array(range(1,len(evals)+1)), cum_var, '+', color = 'tab:green', markersize = 10)\n",
    "    plt.xlabel('Number of principal components')\n",
    "    plt.ylabel('Variance %')\n",
    "    plt.xticks(np.array(range(1,len(evals)+1)))\n",
    "    plt.legend()\n",
    "    plt.show()\n",
    "    \n",
    "    var_diff = [var[i] - var[i+1] for i in range(len(var)-1)]\n",
    "    if n_components == None:\n",
    "        n_components = var_diff.index(max(var_diff))+1\n",
    "        print('Optimal number of principal components:', n_components)\n",
    "    \n",
    "    #Step-5\n",
    "    evecs_subset = evecs[:,0:n_components]\n",
    "    X_reduced = np.dot(evecs_subset.transpose(), X_meaned.transpose()).transpose()\n",
    "     \n",
    "    return X_reduced, evals, evecs"
   ]
  },
  {
   "cell_type": "markdown",
   "metadata": {},
   "source": [
    "### Testing PCA Function"
   ]
  },
  {
   "cell_type": "markdown",
   "metadata": {},
   "source": [
    "Retrieve dataset and split into data and target"
   ]
  },
  {
   "cell_type": "code",
   "execution_count": 110,
   "metadata": {},
   "outputs": [],
   "source": [
    "url = \"https://archive.ics.uci.edu/ml/machine-learning-databases/iris/iris.data\"\n",
    "data = pd.read_csv(url, names=['sepal length','sepal width','petal length','petal width','target'])"
   ]
  },
  {
   "cell_type": "code",
   "execution_count": 204,
   "metadata": {},
   "outputs": [
    {
     "data": {
      "text/html": [
       "<div>\n",
       "<style scoped>\n",
       "    .dataframe tbody tr th:only-of-type {\n",
       "        vertical-align: middle;\n",
       "    }\n",
       "\n",
       "    .dataframe tbody tr th {\n",
       "        vertical-align: top;\n",
       "    }\n",
       "\n",
       "    .dataframe thead th {\n",
       "        text-align: right;\n",
       "    }\n",
       "</style>\n",
       "<table border=\"1\" class=\"dataframe\">\n",
       "  <thead>\n",
       "    <tr style=\"text-align: right;\">\n",
       "      <th></th>\n",
       "      <th>sepal length</th>\n",
       "      <th>sepal width</th>\n",
       "      <th>petal length</th>\n",
       "      <th>petal width</th>\n",
       "      <th>target</th>\n",
       "    </tr>\n",
       "  </thead>\n",
       "  <tbody>\n",
       "    <tr>\n",
       "      <th>0</th>\n",
       "      <td>5.1</td>\n",
       "      <td>3.5</td>\n",
       "      <td>1.4</td>\n",
       "      <td>0.2</td>\n",
       "      <td>Iris-setosa</td>\n",
       "    </tr>\n",
       "    <tr>\n",
       "      <th>1</th>\n",
       "      <td>4.9</td>\n",
       "      <td>3.0</td>\n",
       "      <td>1.4</td>\n",
       "      <td>0.2</td>\n",
       "      <td>Iris-setosa</td>\n",
       "    </tr>\n",
       "    <tr>\n",
       "      <th>2</th>\n",
       "      <td>4.7</td>\n",
       "      <td>3.2</td>\n",
       "      <td>1.3</td>\n",
       "      <td>0.2</td>\n",
       "      <td>Iris-setosa</td>\n",
       "    </tr>\n",
       "    <tr>\n",
       "      <th>3</th>\n",
       "      <td>4.6</td>\n",
       "      <td>3.1</td>\n",
       "      <td>1.5</td>\n",
       "      <td>0.2</td>\n",
       "      <td>Iris-setosa</td>\n",
       "    </tr>\n",
       "    <tr>\n",
       "      <th>4</th>\n",
       "      <td>5.0</td>\n",
       "      <td>3.6</td>\n",
       "      <td>1.4</td>\n",
       "      <td>0.2</td>\n",
       "      <td>Iris-setosa</td>\n",
       "    </tr>\n",
       "    <tr>\n",
       "      <th>...</th>\n",
       "      <td>...</td>\n",
       "      <td>...</td>\n",
       "      <td>...</td>\n",
       "      <td>...</td>\n",
       "      <td>...</td>\n",
       "    </tr>\n",
       "    <tr>\n",
       "      <th>145</th>\n",
       "      <td>6.7</td>\n",
       "      <td>3.0</td>\n",
       "      <td>5.2</td>\n",
       "      <td>2.3</td>\n",
       "      <td>Iris-virginica</td>\n",
       "    </tr>\n",
       "    <tr>\n",
       "      <th>146</th>\n",
       "      <td>6.3</td>\n",
       "      <td>2.5</td>\n",
       "      <td>5.0</td>\n",
       "      <td>1.9</td>\n",
       "      <td>Iris-virginica</td>\n",
       "    </tr>\n",
       "    <tr>\n",
       "      <th>147</th>\n",
       "      <td>6.5</td>\n",
       "      <td>3.0</td>\n",
       "      <td>5.2</td>\n",
       "      <td>2.0</td>\n",
       "      <td>Iris-virginica</td>\n",
       "    </tr>\n",
       "    <tr>\n",
       "      <th>148</th>\n",
       "      <td>6.2</td>\n",
       "      <td>3.4</td>\n",
       "      <td>5.4</td>\n",
       "      <td>2.3</td>\n",
       "      <td>Iris-virginica</td>\n",
       "    </tr>\n",
       "    <tr>\n",
       "      <th>149</th>\n",
       "      <td>5.9</td>\n",
       "      <td>3.0</td>\n",
       "      <td>5.1</td>\n",
       "      <td>1.8</td>\n",
       "      <td>Iris-virginica</td>\n",
       "    </tr>\n",
       "  </tbody>\n",
       "</table>\n",
       "<p>150 rows × 5 columns</p>\n",
       "</div>"
      ],
      "text/plain": [
       "     sepal length  sepal width  petal length  petal width          target\n",
       "0             5.1          3.5           1.4          0.2     Iris-setosa\n",
       "1             4.9          3.0           1.4          0.2     Iris-setosa\n",
       "2             4.7          3.2           1.3          0.2     Iris-setosa\n",
       "3             4.6          3.1           1.5          0.2     Iris-setosa\n",
       "4             5.0          3.6           1.4          0.2     Iris-setosa\n",
       "..            ...          ...           ...          ...             ...\n",
       "145           6.7          3.0           5.2          2.3  Iris-virginica\n",
       "146           6.3          2.5           5.0          1.9  Iris-virginica\n",
       "147           6.5          3.0           5.2          2.0  Iris-virginica\n",
       "148           6.2          3.4           5.4          2.3  Iris-virginica\n",
       "149           5.9          3.0           5.1          1.8  Iris-virginica\n",
       "\n",
       "[150 rows x 5 columns]"
      ]
     },
     "execution_count": 204,
     "metadata": {},
     "output_type": "execute_result"
    }
   ],
   "source": [
    "data"
   ]
  },
  {
   "cell_type": "code",
   "execution_count": 112,
   "metadata": {},
   "outputs": [],
   "source": [
    "x = data.iloc[:,0:4]\n",
    "target = data.iloc[:,4]"
   ]
  },
  {
   "cell_type": "code",
   "execution_count": 196,
   "metadata": {},
   "outputs": [
    {
     "data": {
      "image/png": "[encoded data removed]",
      "text/plain": [
       "<Figure size 432x288 with 1 Axes>"
      ]
     },
     "metadata": {
      "needs_background": "light"
     },
     "output_type": "display_data"
    }
   ],
   "source": [
    "x_reduced, x_evals, x_evecs = PCA_fs(x, 2)"
   ]
  },
  {
   "cell_type": "code",
   "execution_count": 198,
   "metadata": {},
   "outputs": [],
   "source": [
    "#Creating a Pandas DataFrame of reduced Dataset\n",
    "reduced_df = pd.DataFrame(x_reduced, columns = ['PC1','PC2'])\n",
    " \n",
    "#Concat it with target variable to create a complete Dataset\n",
    "reduced_df = pd.concat([reduced_df, pd.DataFrame(target)], axis = 1)"
   ]
  },
  {
   "cell_type": "code",
   "execution_count": 201,
   "metadata": {},
   "outputs": [
    {
     "data": {
      "image/png": "[encoded data removed]",
      "text/plain": [
       "<Figure size 432x288 with 1 Axes>"
      ]
     },
     "metadata": {
      "needs_background": "light"
     },
     "output_type": "display_data"
    }
   ],
   "source": [
    "plt.figure()\n",
    "sb.scatterplot(data = reduced_df, x = 'PC1',y = 'PC2' , hue = 'target')\n",
    "plt.grid()\n",
    "plt.show()"
   ]
  }
 ],
 "metadata": {
  "kernelspec": {
   "display_name": "Python 3",
   "language": "python",
   "name": "python3"
  },
  "language_info": {
   "codemirror_mode": {
    "name": "ipython",
    "version": 3
   },
   "file_extension": ".py",
   "mimetype": "text/x-python",
   "name": "python",
   "nbconvert_exporter": "python",
   "pygments_lexer": "ipython3",
   "version": "3.7.4"
  }
 },
 "nbformat": 4,
 "nbformat_minor": 4
}
